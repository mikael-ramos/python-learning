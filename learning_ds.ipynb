{
 "cells": [
  {
   "cell_type": "markdown",
   "metadata": {},
   "source": [
    "Explorando o numpy"
   ]
  },
  {
   "cell_type": "code",
   "execution_count": 2,
   "metadata": {},
   "outputs": [],
   "source": [
    "import numpy as np"
   ]
  },
  {
   "cell_type": "code",
   "execution_count": 3,
   "metadata": {},
   "outputs": [],
   "source": [
    "lista = [1, 2, 3, 4, 5, 6]\n",
    "\n",
    "array = np.array(lista)"
   ]
  },
  {
   "cell_type": "code",
   "execution_count": 4,
   "metadata": {},
   "outputs": [
    {
     "name": "stdout",
     "output_type": "stream",
     "text": [
      "[[0. 0. 0.]\n",
      " [0. 0. 0.]\n",
      " [0. 0. 0.]\n",
      " [0. 0. 0.]\n",
      " [0. 0. 0.]]\n"
     ]
    }
   ],
   "source": [
    "matriz_zeros = np.zeros((5,3))\n",
    "print(matriz_zeros)"
   ]
  },
  {
   "cell_type": "code",
   "execution_count": 9,
   "metadata": {},
   "outputs": [
    {
     "name": "stdout",
     "output_type": "stream",
     "text": [
      "[0. 0. 0. 0. 0. 0. 0. 0. 0. 0.]\n"
     ]
    }
   ],
   "source": [
    "print(np.zeros(10))"
   ]
  },
  {
   "cell_type": "code",
   "execution_count": 8,
   "metadata": {},
   "outputs": [
    {
     "name": "stdout",
     "output_type": "stream",
     "text": [
      "6.792857142857143\n",
      "10.0\n",
      "3.7\n",
      "5\n",
      "6\n"
     ]
    }
   ],
   "source": [
    "lista_notas = [9.7, 6.6, 7.5,4.3,5.75,10,3.7]\n",
    "listanp_notas = np.array(lista_notas)\n",
    "print(listanp_notas.mean())\n",
    "print(listanp_notas.max())\n",
    "print(listanp_notas.min())\n",
    "print(listanp_notas.argmax())\n",
    "print(listanp_notas.argmin())"
   ]
  },
  {
   "cell_type": "markdown",
   "metadata": {},
   "source": [
    "Mascaras booleanas"
   ]
  },
  {
   "cell_type": "code",
   "execution_count": 13,
   "metadata": {},
   "outputs": [
    {
     "name": "stdout",
     "output_type": "stream",
     "text": [
      "[ True False  True  True False False False  True]\n"
     ]
    }
   ],
   "source": [
    "is_covid_positive = np.array(['Yes','No','Yes','Yes','No','No','No','Yes'])\n",
    "mask = (is_covid_positive == 'Yes')\n",
    "print(mask)"
   ]
  },
  {
   "cell_type": "code",
   "execution_count": 15,
   "metadata": {},
   "outputs": [
    {
     "name": "stdout",
     "output_type": "stream",
     "text": [
      "['C19' 'No' 'C19' 'C19' 'No' 'No' 'No' 'C19']\n"
     ]
    }
   ],
   "source": [
    "is_covid_positive[mask] = 'C19'\n",
    "print(is_covid_positive)"
   ]
  },
  {
   "cell_type": "code",
   "execution_count": 27,
   "metadata": {},
   "outputs": [
    {
     "name": "stdout",
     "output_type": "stream",
     "text": [
      "[ True  True  True  True False False False False  True  True  True  True\n",
      "  True]\n",
      "[ 7.7  8.3  6.7  5.5  9.8  9.9 10.   7.4  6.3]\n",
      "[5.  2.1 2.3 4.7]\n"
     ]
    }
   ],
   "source": [
    "grades_students = np.array([7.7,8.3,6.7,5.5,5,2.1,2.3,4.7,9.8,9.9,10,7.4,6.3])\n",
    "mask_grades = (grades_students > 5)\n",
    "print(mask_grades)\n",
    "grades_students[mask_grades]\n",
    "grades_students[grades_students <= 5]\n",
    "print(grades_students[mask_grades])\n",
    "print(grades_students[grades_students <= 5])\n"
   ]
  },
  {
   "cell_type": "code",
   "execution_count": null,
   "metadata": {},
   "outputs": [],
   "source": []
  }
 ],
 "metadata": {
  "kernelspec": {
   "display_name": "Python 3",
   "language": "python",
   "name": "python3"
  },
  "language_info": {
   "codemirror_mode": {
    "name": "ipython",
    "version": 3
   },
   "file_extension": ".py",
   "mimetype": "text/x-python",
   "name": "python",
   "nbconvert_exporter": "python",
   "pygments_lexer": "ipython3",
   "version": "3.10.7"
  }
 },
 "nbformat": 4,
 "nbformat_minor": 2
}
